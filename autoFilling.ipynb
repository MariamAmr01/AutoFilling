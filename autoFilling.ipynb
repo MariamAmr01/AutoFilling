{
  "cells": [
    {
      "cell_type": "code",
      "execution_count": 1,
      "metadata": {
        "colab": {
          "base_uri": "https://localhost:8080/"
        },
        "id": "0ZNqozyI00fP",
        "outputId": "e822f369-0663-4571-9743-78dbe27f5c0c"
      },
      "outputs": [
        {
          "name": "stderr",
          "output_type": "stream",
          "text": [
            "[nltk_data] Downloading package stopwords to\n",
            "[nltk_data]     C:\\Users\\Lenovo\\AppData\\Roaming\\nltk_data...\n",
            "[nltk_data]   Package stopwords is already up-to-date!\n",
            "[nltk_data] Downloading package punkt to\n",
            "[nltk_data]     C:\\Users\\Lenovo\\AppData\\Roaming\\nltk_data...\n",
            "[nltk_data]   Package punkt is already up-to-date!\n",
            "[nltk_data] Downloading package wordnet to\n",
            "[nltk_data]     C:\\Users\\Lenovo\\AppData\\Roaming\\nltk_data...\n",
            "[nltk_data]   Package wordnet is already up-to-date!\n",
            "[nltk_data] Downloading package omw-1.4 to\n",
            "[nltk_data]     C:\\Users\\Lenovo\\AppData\\Roaming\\nltk_data...\n",
            "[nltk_data]   Package omw-1.4 is already up-to-date!\n"
          ]
        }
      ],
      "source": [
        "#!pip install contractions\n",
        "import operator\n",
        "import contractions     \n",
        "import re           \n",
        "import nltk                   \n",
        "nltk.download('stopwords')             # Download Stopwords.\n",
        "nltk.download('punkt')\n",
        "nltk.download('wordnet')\n",
        "nltk.download('omw-1.4')\n",
        "from nltk.corpus import stopwords            # Import stopwords.\n",
        "from nltk.tokenize import word_tokenize # Import Tokenizer.\n",
        "from nltk.stem.wordnet import WordNetLemmatizer         # Import Lemmatizer."
      ]
    },
    {
      "attachments": {},
      "cell_type": "markdown",
      "metadata": {},
      "source": [
        "### Opening and reading sample of the data files"
      ]
    },
    {
      "cell_type": "code",
      "execution_count": 2,
      "metadata": {},
      "outputs": [],
      "source": [
        "import os\n",
        "import random\n",
        "\n",
        "path = \"sample_dataset\"\n",
        "#sample_size = 1000\n",
        "\n",
        "file_list = os.listdir(path)\n",
        "#sample_files = random.sample(file_list, sample_size)\n",
        "\n",
        "data = []\n",
        "for file_name in file_list:\n",
        "    with open(os.path.join(path, file_name), \"r\") as f:\n",
        "        data.append(f.read())"
      ]
    },
    {
      "attachments": {},
      "cell_type": "markdown",
      "metadata": {},
      "source": [
        "### Preparing Data "
      ]
    },
    {
      "cell_type": "code",
      "execution_count": 3,
      "metadata": {
        "id": "3ArxgTK-nN67"
      },
      "outputs": [],
      "source": [
        "def removePunctuation(words):\n",
        "  new_words = []\n",
        "  for word in words:\n",
        "    # Not word or space, then remove\n",
        "      new_word = re.sub(r'[^\\w\\s]', '', word)\n",
        "      if new_word != '':\n",
        "          new_words.append(new_word)\n",
        "  return new_words\n",
        "\n",
        "def removeStopwords(words):\n",
        "  stopwordsList = stopwords.words('english') \n",
        "  new_words = []\n",
        "  for word in words:\n",
        "      if word not in stopwordsList:\n",
        "          new_words.append(word)\n",
        "  return new_words\n",
        "\n",
        "def lemmatize(words):\n",
        "  lemmatizer = WordNetLemmatizer()\n",
        "  new_words = []\n",
        "  for word in words:\n",
        "    new_words.append(lemmatizer.lemmatize(word, pos='v')) \n",
        "  return new_words"
      ]
    },
    {
      "cell_type": "code",
      "execution_count": 4,
      "metadata": {
        "id": "iJvNJpLlZ4hb"
      },
      "outputs": [],
      "source": [
        "def preprocessing(data):\n",
        "  # you're' -> you are\n",
        "  data = contractions.fix(data)\n",
        "\n",
        "  dataLowercase = data.lower() \n",
        "  dataTokens = nltk.word_tokenize(dataLowercase)\n",
        "\n",
        "  dataTokens = removePunctuation(dataTokens)\n",
        "  dataTokens = removeStopwords(dataTokens)\n",
        "  modifiedDataTokens = lemmatize(dataTokens)\n",
        "  \n",
        "  return modifiedDataTokens"
      ]
    },
    {
      "cell_type": "code",
      "execution_count": 5,
      "metadata": {},
      "outputs": [],
      "source": [
        "def prepareInput(inputSeq):\n",
        "\n",
        "  inputSet = inputSeq.split()\n",
        "  if len(inputSet) > 2:\n",
        "    inputSet = inputSet[-2:]\n",
        "    inputSeq = \" \".join(inputSet)\n",
        "\n",
        "  inputSeq= preprocessing(inputSeq)\n",
        "  inputSeq = \" \".join(inputSeq)\n",
        "\n",
        "  return inputSeq"
      ]
    },
    {
      "attachments": {},
      "cell_type": "markdown",
      "metadata": {},
      "source": [
        "### Preparing Ngram and frequency table"
      ]
    },
    {
      "cell_type": "code",
      "execution_count": 6,
      "metadata": {
        "id": "w9BXt4gFsVlD"
      },
      "outputs": [],
      "source": [
        "def generateNgrams(data, n):\n",
        "    ngram = []\n",
        "    # n=3, len(data)=6 -> 4 combination of words\n",
        "    for i in range(len(data)-n+1): \n",
        "      # Each combination has 3 words  \n",
        "      ngram.append(tuple(data[i:i+n])) \n",
        "    return ngram"
      ]
    },
    {
      "cell_type": "code",
      "execution_count": 7,
      "metadata": {
        "id": "_qY-2wIvz0Ft"
      },
      "outputs": [],
      "source": [
        "def calcFrequencies(ngrams):\n",
        "\n",
        "  frequency = {}\n",
        "  for ngram in ngrams:\n",
        "   if ngram in frequency:\n",
        "     frequency[ngram] += 1\n",
        "   else:\n",
        "     frequency[ngram] = 1\n",
        "\n",
        "  return frequency"
      ]
    },
    {
      "cell_type": "code",
      "execution_count": 8,
      "metadata": {
        "id": "JlMZhP0d54Uh"
      },
      "outputs": [],
      "source": [
        "def calcProbabilities(frequencyTable,inputSeq):\n",
        "\n",
        "  predictedWordsFreq = {}\n",
        "  probability = {}\n",
        "\n",
        "  try:\n",
        "    inputSeq = tuple(inputSeq.split(\" \"))\n",
        "    freqOfInputSeq = frequencyTable[inputSeq]\n",
        "\n",
        "    for ngram,frequency in frequencyTable.items():\n",
        "\n",
        "      if ngram[:-1] == inputSeq:\n",
        "        predictedWordsFreq[ngram[-1]] = frequency\n",
        "\n",
        "    for word,freq in predictedWordsFreq.items():\n",
        "      prob = freq/freqOfInputSeq\n",
        "      probability[word]= prob\n",
        "\n",
        "  except KeyError:\n",
        "    return probability\n",
        "  \n",
        "  return probability"
      ]
    },
    {
      "cell_type": "code",
      "execution_count": 9,
      "metadata": {
        "id": "WiOI6mqN_M7l"
      },
      "outputs": [],
      "source": [
        "def predict(inputSeq,frequencyTable): \n",
        "\n",
        "  probabilities = calcProbabilities(frequencyTable,inputSeq)\n",
        "  sortedProbabilities = dict(sorted(probabilities.items(), key = operator.itemgetter(1), reverse = True))\n",
        "\n",
        "  if len(sortedProbabilities) > 10:\n",
        "    top10 = dict(list(sortedProbabilities.items())[:10])\n",
        "    return top10\n",
        "  \n",
        "  return sortedProbabilities"
      ]
    },
    {
      "cell_type": "code",
      "execution_count": 10,
      "metadata": {
        "id": "oNZeGf06yYls"
      },
      "outputs": [],
      "source": [
        "def prepareNgrams(data):\n",
        "  unigrams = []\n",
        "  bigrams = []\n",
        "  trigrams = []\n",
        "\n",
        "  for record in data:\n",
        "    record = preprocessing(record)\n",
        "    unigrams += generateNgrams(record, 1)\n",
        "    bigrams += generateNgrams(record, 2)\n",
        "    trigrams += generateNgrams(record, 3)\n",
        "\n",
        "  ngrams = unigrams + bigrams + trigrams\n",
        "  return ngrams"
      ]
    },
    {
      "cell_type": "code",
      "execution_count": 11,
      "metadata": {},
      "outputs": [],
      "source": [
        "def getPredictionByChar(predictionResult,inputSeqSubstr):\n",
        "    charPrediction = []\n",
        "    if inputSeqSubstr == \"\":\n",
        "        return charPrediction\n",
        "    for result in predictionResult:\n",
        "        if result.startswith(inputSeqSubstr):\n",
        "            charPrediction.append(result)\n",
        "    return charPrediction"
      ]
    },
    {
      "cell_type": "code",
      "execution_count": 12,
      "metadata": {
        "colab": {
          "base_uri": "https://localhost:8080/"
        },
        "id": "iFjkHY3MstRs",
        "outputId": "66cdac89-5e95-4350-f3f5-0f9e09c5178e"
      },
      "outputs": [],
      "source": [
        "ngrams = prepareNgrams(data)\n",
        "frequencyTable = calcFrequencies(ngrams)"
      ]
    },
    {
      "attachments": {},
      "cell_type": "markdown",
      "metadata": {},
      "source": [
        "# GUI"
      ]
    },
    {
      "cell_type": "code",
      "execution_count": null,
      "metadata": {},
      "outputs": [],
      "source": [
        "import tkinter as tk\n",
        "\n",
        "def suggest_results(*args):\n",
        "    searchTerm = searchVar.get()\n",
        "    suggestions = []\n",
        "    suggestionsInitial = {}\n",
        "\n",
        "    last_space_index = searchTerm.rfind(\" \")\n",
        "    if last_space_index != -1:\n",
        "        \n",
        "        inputSeq = prepareInput(searchTerm[:last_space_index])\n",
        "        suggestions = predict(inputSeq, frequencyTable)\n",
        "        suggestions = getPredictionByChar(suggestions,searchTerm[last_space_index+1:])\n",
        "\n",
        "    suggestionsInitial = predict(prepareInput(searchTerm), frequencyTable)\n",
        "    suggestions += list(suggestionsInitial.keys())\n",
        "\n",
        "    listbox.delete(0, tk.END)\n",
        "    numOfCharPre= len(suggestions)-len(suggestionsInitial)\n",
        "    output = \"\"\n",
        "\n",
        "    for suggestion in suggestions:\n",
        "        if numOfCharPre > 0:\n",
        "            output = searchTerm[:last_space_index]\n",
        "        else:\n",
        "            if searchTerm[-1:]==\" \":\n",
        "                output = searchTerm[:-1]\n",
        "            else:\n",
        "                output = searchTerm\n",
        "        numOfCharPre = numOfCharPre-1\n",
        "        listbox.insert(tk.END, output+\" \"+suggestion)\n",
        "\n",
        "def replace_selected_suggestion(event):\n",
        "    selection = listbox.curselection()\n",
        "    if selection:\n",
        "        index = selection[0]\n",
        "        # replace the original input with the selected suggestion\n",
        "        searchVar.set(listbox.get(index))\n",
        "\n",
        "\n",
        "root = tk.Tk()\n",
        "root.title(\"Auto-Filling Program\")\n",
        "root.iconbitmap(\"search.ico\")\n",
        "root.geometry(\"370x320\")\n",
        "\n",
        "\n",
        "label = tk.Label(root, text=\"Search\", font=(\"Arial\", 20, \"bold\"), pady=5)\n",
        "label.pack()\n",
        "label.config(fg=\"#857DB1\")\n",
        "\n",
        "# create a search bar\n",
        "searchVar = tk.StringVar()\n",
        "searchEntry = tk.Entry(root, textvariable=searchVar, width=30, font=(\"Arial\", 15), borderwidth=5)\n",
        "searchEntry.pack(fill=tk.X, expand=True)\n",
        "\n",
        "\n",
        "# create a listbox \n",
        "listbox = tk.Listbox(root, width=30, font=(\"Arial\", 15), borderwidth=5)\n",
        "listbox.config(selectmode=tk.SINGLE, selectbackground=\"light blue\")\n",
        "listbox.pack(fill=tk.BOTH, expand=True)\n",
        "\n",
        "\n",
        "# bind a callback function to the ListboxSelect event of the listbox\n",
        "listbox.bind(\"<<ListboxSelect>>\", lambda event: replace_selected_suggestion(event))\n",
        "\n",
        "# update the listbox whenever the user types in the search bar\n",
        "searchVar.trace(\"w\", suggest_results)\n",
        "\n",
        "\n",
        "root.mainloop()"
      ]
    }
  ],
  "metadata": {
    "colab": {
      "provenance": []
    },
    "kernelspec": {
      "display_name": "Python 3",
      "name": "python3"
    },
    "language_info": {
      "codemirror_mode": {
        "name": "ipython",
        "version": 3
      },
      "file_extension": ".py",
      "mimetype": "text/x-python",
      "name": "python",
      "nbconvert_exporter": "python",
      "pygments_lexer": "ipython3",
      "version": "3.10.4"
    },
    "widgets": {
      "application/vnd.jupyter.widget-state+json": {
        "07df764a0ac341ddbc024da2c7720bf4": {
          "model_module": "@jupyter-widgets/controls",
          "model_module_version": "1.5.0",
          "model_name": "TextModel",
          "state": {
            "_dom_classes": [],
            "_model_module": "@jupyter-widgets/controls",
            "_model_module_version": "1.5.0",
            "_model_name": "TextModel",
            "_view_count": null,
            "_view_module": "@jupyter-widgets/controls",
            "_view_module_version": "1.5.0",
            "_view_name": "TextView",
            "continuous_update": true,
            "description": "Input:",
            "description_tooltip": null,
            "disabled": false,
            "layout": "IPY_MODEL_dbd0b1cdd0b5481aafb8e52d9c1436d9",
            "placeholder": "Type something",
            "style": "IPY_MODEL_c36c830ab46545afbc608fff56c00753",
            "value": ""
          }
        },
        "2da909be3eff4a3fabe94955cf9e83f6": {
          "model_module": "@jupyter-widgets/controls",
          "model_module_version": "1.5.0",
          "model_name": "ButtonModel",
          "state": {
            "_dom_classes": [],
            "_model_module": "@jupyter-widgets/controls",
            "_model_module_version": "1.5.0",
            "_model_name": "ButtonModel",
            "_view_count": null,
            "_view_module": "@jupyter-widgets/controls",
            "_view_module_version": "1.5.0",
            "_view_name": "ButtonView",
            "button_style": "",
            "description": "Submit",
            "disabled": false,
            "icon": "",
            "layout": "IPY_MODEL_75e4307d713848c48171bb4eb8ed41a6",
            "style": "IPY_MODEL_5af78d550e1e4643993134b110ccc164",
            "tooltip": ""
          }
        },
        "5af78d550e1e4643993134b110ccc164": {
          "model_module": "@jupyter-widgets/controls",
          "model_module_version": "1.5.0",
          "model_name": "ButtonStyleModel",
          "state": {
            "_model_module": "@jupyter-widgets/controls",
            "_model_module_version": "1.5.0",
            "_model_name": "ButtonStyleModel",
            "_view_count": null,
            "_view_module": "@jupyter-widgets/base",
            "_view_module_version": "1.2.0",
            "_view_name": "StyleView",
            "button_color": null,
            "font_weight": ""
          }
        },
        "75e4307d713848c48171bb4eb8ed41a6": {
          "model_module": "@jupyter-widgets/base",
          "model_module_version": "1.2.0",
          "model_name": "LayoutModel",
          "state": {
            "_model_module": "@jupyter-widgets/base",
            "_model_module_version": "1.2.0",
            "_model_name": "LayoutModel",
            "_view_count": null,
            "_view_module": "@jupyter-widgets/base",
            "_view_module_version": "1.2.0",
            "_view_name": "LayoutView",
            "align_content": null,
            "align_items": null,
            "align_self": null,
            "border": null,
            "bottom": null,
            "display": null,
            "flex": null,
            "flex_flow": null,
            "grid_area": null,
            "grid_auto_columns": null,
            "grid_auto_flow": null,
            "grid_auto_rows": null,
            "grid_column": null,
            "grid_gap": null,
            "grid_row": null,
            "grid_template_areas": null,
            "grid_template_columns": null,
            "grid_template_rows": null,
            "height": null,
            "justify_content": null,
            "justify_items": null,
            "left": null,
            "margin": null,
            "max_height": null,
            "max_width": null,
            "min_height": null,
            "min_width": null,
            "object_fit": null,
            "object_position": null,
            "order": null,
            "overflow": null,
            "overflow_x": null,
            "overflow_y": null,
            "padding": null,
            "right": null,
            "top": null,
            "visibility": null,
            "width": null
          }
        },
        "c36c830ab46545afbc608fff56c00753": {
          "model_module": "@jupyter-widgets/controls",
          "model_module_version": "1.5.0",
          "model_name": "DescriptionStyleModel",
          "state": {
            "_model_module": "@jupyter-widgets/controls",
            "_model_module_version": "1.5.0",
            "_model_name": "DescriptionStyleModel",
            "_view_count": null,
            "_view_module": "@jupyter-widgets/base",
            "_view_module_version": "1.2.0",
            "_view_name": "StyleView",
            "description_width": ""
          }
        },
        "dbd0b1cdd0b5481aafb8e52d9c1436d9": {
          "model_module": "@jupyter-widgets/base",
          "model_module_version": "1.2.0",
          "model_name": "LayoutModel",
          "state": {
            "_model_module": "@jupyter-widgets/base",
            "_model_module_version": "1.2.0",
            "_model_name": "LayoutModel",
            "_view_count": null,
            "_view_module": "@jupyter-widgets/base",
            "_view_module_version": "1.2.0",
            "_view_name": "LayoutView",
            "align_content": null,
            "align_items": null,
            "align_self": null,
            "border": null,
            "bottom": null,
            "display": null,
            "flex": null,
            "flex_flow": null,
            "grid_area": null,
            "grid_auto_columns": null,
            "grid_auto_flow": null,
            "grid_auto_rows": null,
            "grid_column": null,
            "grid_gap": null,
            "grid_row": null,
            "grid_template_areas": null,
            "grid_template_columns": null,
            "grid_template_rows": null,
            "height": null,
            "justify_content": null,
            "justify_items": null,
            "left": null,
            "margin": null,
            "max_height": null,
            "max_width": null,
            "min_height": null,
            "min_width": null,
            "object_fit": null,
            "object_position": null,
            "order": null,
            "overflow": null,
            "overflow_x": null,
            "overflow_y": null,
            "padding": null,
            "right": null,
            "top": null,
            "visibility": null,
            "width": null
          }
        }
      }
    }
  },
  "nbformat": 4,
  "nbformat_minor": 0
}
